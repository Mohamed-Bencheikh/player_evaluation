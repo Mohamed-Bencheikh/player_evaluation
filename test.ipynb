{
 "cells": [
  {
   "cell_type": "code",
   "execution_count": 28,
   "metadata": {},
   "outputs": [],
   "source": [
    "import pandas as pd\n",
    "from sklearn.linear_model import LinearRegression"
   ]
  },
  {
   "cell_type": "code",
   "execution_count": 26,
   "metadata": {},
   "outputs": [
    {
     "data": {
      "text/html": [
       "<div>\n",
       "<style scoped>\n",
       "    .dataframe tbody tr th:only-of-type {\n",
       "        vertical-align: middle;\n",
       "    }\n",
       "\n",
       "    .dataframe tbody tr th {\n",
       "        vertical-align: top;\n",
       "    }\n",
       "\n",
       "    .dataframe thead th {\n",
       "        text-align: right;\n",
       "    }\n",
       "</style>\n",
       "<table border=\"1\" class=\"dataframe\">\n",
       "  <thead>\n",
       "    <tr style=\"text-align: right;\">\n",
       "      <th></th>\n",
       "      <th>C</th>\n",
       "    </tr>\n",
       "  </thead>\n",
       "  <tbody>\n",
       "    <tr>\n",
       "      <th>0</th>\n",
       "      <td>55</td>\n",
       "    </tr>\n",
       "    <tr>\n",
       "      <th>1</th>\n",
       "      <td>66</td>\n",
       "    </tr>\n",
       "    <tr>\n",
       "      <th>2</th>\n",
       "      <td>77</td>\n",
       "    </tr>\n",
       "  </tbody>\n",
       "</table>\n",
       "</div>"
      ],
      "text/plain": [
       "    C\n",
       "0  55\n",
       "1  66\n",
       "2  77"
      ]
     },
     "execution_count": 26,
     "metadata": {},
     "output_type": "execute_result"
    }
   ],
   "source": [
    "df = pd.DataFrame({'A':[23,45,80],'B':[12,15,18],'C':[55,66,77]})\n",
    "cols = ['A','B']\n",
    "col1 = ['C']\n",
    "dfX = df[cols]\n",
    "dfY = df[col1]\n",
    "dfY"
   ]
  },
  {
   "cell_type": "code",
   "execution_count": null,
   "metadata": {},
   "outputs": [],
   "source": [
    "st = LinearRegression()\n",
    "A = [23,45,66]\n",
    "B = [12,13,14]\n",
    "C = (A,B)\n",
    "\n",
    "z = zip(A,B)\n",
    "for a,b in zip(A,B):\n",
    "    print (a,b)"
   ]
  },
  {
   "cell_type": "code",
   "execution_count": 41,
   "metadata": {},
   "outputs": [],
   "source": [
    "# Importation of libraries:\n",
    "from Code import Code\n",
    "from sklearn.model_selection import train_test_split\n",
    "import matplotlib.pyplot as plt\n",
    "from sklearn.linear_model import LinearRegression,LogisticRegression\n",
    "from sklearn.svm import SVR\n",
    "import numpy as np\n",
    "import pandas as pd\n",
    "from sklearn.metrics import accuracy_score,confusion_matrix"
   ]
  },
  {
   "cell_type": "code",
   "execution_count": 30,
   "metadata": {},
   "outputs": [
    {
     "name": "stdout",
     "output_type": "stream",
     "text": [
      "0.882785252680601\n",
      "prediction: 61.150559717240675 | exact value: 60.0\n",
      "prediction: 69.0515245608654 | exact value: 69.0\n",
      "prediction: 64.93877664168413 | exact value: 66.0\n"
     ]
    }
   ],
   "source": [
    "X,y = Code.preprocess()\n",
    "X_train,X_test,y_train,y_test = train_test_split(X,y,test_size=0.25,random_state=1)\n",
    "models = [LinearRegression(),LogisticRegression(),SVR()]\n",
    "# pred_linReg = []; pred_linLog = []; pred_svr = []\n",
    "# for mod in models:\n",
    "#     mod.fit(X_train,y_train)\n",
    "model = SVR()\n",
    "model.fit(X_train,y_train)\n",
    "print (model.score(X,y))\n",
    "X_test.shape\n",
    "y_pred = model.predict((X_test))\n",
    "print (f\"prediction: {y_pred[0]} | exact value: {y_test.iloc[0,]}\")\n",
    "print (f\"prediction: {y_pred[1]} | exact value: {y_test.iloc[1,]}\")\n",
    "print (f\"prediction: {y_pred[2]} | exact value: {y_test.iloc[2,]}\")\n"
   ]
  },
  {
   "cell_type": "code",
   "execution_count": null,
   "metadata": {},
   "outputs": [],
   "source": [
    "# plt.scatter(X[:0],y)\n",
    "# print(X.shape)\n",
    "# print(y.shape)\n",
    "# plt.plot(X,model.predict(X),c='red',lw=2)\n",
    "# df = pd.DataFrame(X,y)\n",
    "# plt.scatter(df,y=y)"
   ]
  }
 ],
 "metadata": {
  "interpreter": {
   "hash": "085635c7bab703e7bb5a41fe64c7278518d529ae783e191374674f75ba478b45"
  },
  "kernelspec": {
   "display_name": "Python 3.10.2 64-bit (system)",
   "language": "python",
   "name": "python3"
  },
  "language_info": {
   "codemirror_mode": {
    "name": "ipython",
    "version": 3
   },
   "file_extension": ".py",
   "mimetype": "text/x-python",
   "name": "python",
   "nbconvert_exporter": "python",
   "pygments_lexer": "ipython3",
   "version": "3.10.2"
  },
  "orig_nbformat": 4
 },
 "nbformat": 4,
 "nbformat_minor": 2
}
