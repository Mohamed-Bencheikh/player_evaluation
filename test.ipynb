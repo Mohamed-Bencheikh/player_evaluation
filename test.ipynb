{
 "cells": [
  {
   "cell_type": "code",
   "execution_count": 28,
   "metadata": {},
   "outputs": [],
   "source": [
    "import pandas as pd\n",
    "from sklearn.linear_model import LinearRegression"
   ]
  },
  {
   "cell_type": "code",
   "execution_count": 1,
   "metadata": {},
   "outputs": [
    {
     "ename": "NameError",
     "evalue": "name 'pd' is not defined",
     "output_type": "error",
     "traceback": [
      "\u001b[1;31m---------------------------------------------------------------------------\u001b[0m",
      "\u001b[1;31mNameError\u001b[0m                                 Traceback (most recent call last)",
      "\u001b[1;32mc:\\my_files\\projects\\PYTHON\\PFE\\player_evaluation\\test.ipynb Cell 2'\u001b[0m in \u001b[0;36m<cell line: 1>\u001b[1;34m()\u001b[0m\n\u001b[1;32m----> <a href='vscode-notebook-cell:/c%3A/my_files/projects/PYTHON/PFE/player_evaluation/test.ipynb#ch0000001?line=0'>1</a>\u001b[0m df \u001b[39m=\u001b[39m pd\u001b[39m.\u001b[39mDataFrame({\u001b[39m'\u001b[39m\u001b[39mA\u001b[39m\u001b[39m'\u001b[39m:[\u001b[39m23\u001b[39m,\u001b[39m45\u001b[39m,\u001b[39m80\u001b[39m],\u001b[39m'\u001b[39m\u001b[39mB\u001b[39m\u001b[39m'\u001b[39m:[\u001b[39m12\u001b[39m,\u001b[39m15\u001b[39m,\u001b[39m18\u001b[39m],\u001b[39m'\u001b[39m\u001b[39mC\u001b[39m\u001b[39m'\u001b[39m:[\u001b[39m55\u001b[39m,\u001b[39m66\u001b[39m,\u001b[39m77\u001b[39m]})\n\u001b[0;32m      <a href='vscode-notebook-cell:/c%3A/my_files/projects/PYTHON/PFE/player_evaluation/test.ipynb#ch0000001?line=1'>2</a>\u001b[0m cols \u001b[39m=\u001b[39m [\u001b[39m'\u001b[39m\u001b[39mA\u001b[39m\u001b[39m'\u001b[39m,\u001b[39m'\u001b[39m\u001b[39mB\u001b[39m\u001b[39m'\u001b[39m]\n\u001b[0;32m      <a href='vscode-notebook-cell:/c%3A/my_files/projects/PYTHON/PFE/player_evaluation/test.ipynb#ch0000001?line=2'>3</a>\u001b[0m col1 \u001b[39m=\u001b[39m [\u001b[39m'\u001b[39m\u001b[39mC\u001b[39m\u001b[39m'\u001b[39m]\n",
      "\u001b[1;31mNameError\u001b[0m: name 'pd' is not defined"
     ]
    }
   ],
   "source": [
    "df = pd.DataFrame({'A':[23,45,80],'B':[12,15,18],'C':[55,66,77]})\n",
    "cols = ['A','B']\n",
    "col1 = ['C']\n",
    "dfX = df[cols]\n",
    "dfY = df[col1]\n",
    "dfY"
   ]
  },
  {
   "cell_type": "code",
   "execution_count": 2,
   "metadata": {},
   "outputs": [],
   "source": [
    "import sqlite3\n",
    "conn = sqlite3.connect(\"C:/my_files/other/database.sqlite\")\n",
    "# conn.execute(\"drop table players_matchs\")\n",
    "# conn.execute(\"\"\"CREATE TABLE PLAYERS_MATCHS (\n",
    "#     ID INTEGER PRIMARY KEY AUTOINCREMENT,\n",
    "#     NUM_MATCH INT ,\n",
    "#     NUM_PLAYER INT,\n",
    "#     EVALUATION FLOAT\n",
    "#     )\"\"\"\n",
    "#     )\n"
   ]
  },
  {
   "cell_type": "code",
   "execution_count": 8,
   "metadata": {},
   "outputs": [
    {
     "data": {
      "text/plain": [
       "<sqlite3.Cursor at 0x16e6b1eb4c0>"
      ]
     },
     "execution_count": 8,
     "metadata": {},
     "output_type": "execute_result"
    }
   ],
   "source": [
    "# conn.execute(\"\"\"\n",
    "#     insert into players_matchs (num_match,num_player,evaluation) values\n",
    "#     (1,2434,56),\n",
    "#     (1,2333,68),\n",
    "#     (2,2333,41),\n",
    "#     (1,8787,70)\n",
    "# \"\"\")\n",
    "# conn.execute(\"delete from players_matchs\")"
   ]
  },
  {
   "cell_type": "code",
   "execution_count": 10,
   "metadata": {},
   "outputs": [
    {
     "name": "stdout",
     "output_type": "stream",
     "text": [
      "(9, 1, 2434, 56.0)\n",
      "(10, 1, 2333, 68.0)\n",
      "(11, 2, 2333, 41.0)\n",
      "(12, 1, 8787, 70.0)\n"
     ]
    }
   ],
   "source": [
    "for r in conn.execute(\"select * from players_matchs\"):\n",
    "    print(r)"
   ]
  },
  {
   "cell_type": "code",
   "execution_count": 13,
   "metadata": {},
   "outputs": [
    {
     "name": "stdout",
     "output_type": "stream",
     "text": [
      "3\n"
     ]
    }
   ],
   "source": [
    "for row in conn.execute(\"\"\"select num_match+1 from players_matchs where num_player = 2333 and \n",
    "    num_match = (select max(num_match) from players_matchs where num_player=2333)\n",
    "\"\"\"):\n",
    "    print(row[0])"
   ]
  },
  {
   "cell_type": "code",
   "execution_count": null,
   "metadata": {},
   "outputs": [],
   "source": [
    "st = LinearRegression()\n",
    "A = [23,45,66]\n",
    "B = [12,13,14]\n",
    "C = (A,B)\n",
    "\n",
    "z = zip(A,B)\n",
    "for a,b in zip(A,B):\n",
    "    print (a,b)"
   ]
  },
  {
   "cell_type": "code",
   "execution_count": 41,
   "metadata": {},
   "outputs": [],
   "source": [
    "# Importation of libraries:\n",
    "from Code import Code\n",
    "from sklearn.model_selection import train_test_split\n",
    "import matplotlib.pyplot as plt\n",
    "from sklearn.linear_model import LinearRegression,LogisticRegression\n",
    "from sklearn.svm import SVR\n",
    "import numpy as np\n",
    "import pandas as pd\n",
    "from sklearn.metrics import accuracy_score,confusion_matrix"
   ]
  },
  {
   "cell_type": "code",
   "execution_count": 30,
   "metadata": {},
   "outputs": [
    {
     "name": "stdout",
     "output_type": "stream",
     "text": [
      "0.882785252680601\n",
      "prediction: 61.150559717240675 | exact value: 60.0\n",
      "prediction: 69.0515245608654 | exact value: 69.0\n",
      "prediction: 64.93877664168413 | exact value: 66.0\n"
     ]
    }
   ],
   "source": [
    "X,y = Code.preprocess()\n",
    "X_train,X_test,y_train,y_test = train_test_split(X,y,test_size=0.25,random_state=1)\n",
    "models = [LinearRegression(),LogisticRegression(),SVR()]\n",
    "# pred_linReg = []; pred_linLog = []; pred_svr = []\n",
    "# for mod in models:\n",
    "#     mod.fit(X_train,y_train)\n",
    "model = SVR()\n",
    "model.fit(X_train,y_train)\n",
    "print (model.score(X,y))\n",
    "X_test.shape\n",
    "y_pred = model.predict((X_test))\n",
    "print (f\"prediction: {y_pred[0]} | exact value: {y_test.iloc[0,]}\")\n",
    "print (f\"prediction: {y_pred[1]} | exact value: {y_test.iloc[1,]}\")\n",
    "print (f\"prediction: {y_pred[2]} | exact value: {y_test.iloc[2,]}\")\n"
   ]
  },
  {
   "cell_type": "code",
   "execution_count": null,
   "metadata": {},
   "outputs": [],
   "source": [
    "# plt.scatter(X[:0],y)\n",
    "# print(X.shape)\n",
    "# print(y.shape)\n",
    "# plt.plot(X,model.predict(X),c='red',lw=2)\n",
    "# df = pd.DataFrame(X,y)\n",
    "# plt.scatter(df,y=y)"
   ]
  }
 ],
 "metadata": {
  "interpreter": {
   "hash": "085635c7bab703e7bb5a41fe64c7278518d529ae783e191374674f75ba478b45"
  },
  "kernelspec": {
   "display_name": "Python 3.10.2 64-bit (system)",
   "language": "python",
   "name": "python3"
  },
  "language_info": {
   "codemirror_mode": {
    "name": "ipython",
    "version": 3
   },
   "file_extension": ".py",
   "mimetype": "text/x-python",
   "name": "python",
   "nbconvert_exporter": "python",
   "pygments_lexer": "ipython3",
   "version": "3.10.2"
  },
  "orig_nbformat": 4
 },
 "nbformat": 4,
 "nbformat_minor": 2
}
