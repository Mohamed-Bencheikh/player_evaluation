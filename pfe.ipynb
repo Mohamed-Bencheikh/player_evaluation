{
 "cells": [
  {
   "cell_type": "code",
   "execution_count": 4,
   "metadata": {},
   "outputs": [],
   "source": [
    "# importation des librairies nécessaires\n",
    "import pandas as pd\n",
    "from sklearn.preprocessing import LabelEncoder\n",
    "# charger les données depuis un fichier CSV dans un dataframe df\n",
    "df = pd.read_csv(\"data.csv\")\n",
    "# effacer les lignes ayant des attributs manquants\n",
    "df.dropna(axis=0,inplace=True)\n",
    "# effacer les champs qui n'ont pas d'importance\n",
    "df.drop(['player_fifa_api_id','player_api_id','date'],axis=1,inplace=True)\n",
    "# convertir les attributs catégoriques en valeurs numériques\n",
    "le = LabelEncoder()\n",
    "categorical_attributes = ['preferred_foot', 'attacking_work_rate', 'defensive_work_rate']\n",
    "for attr in categorical_attributes:\n",
    "    df[attr] = le.fit_transform(df[attr])\n",
    "    "
   ]
  },
  {
   "cell_type": "code",
   "execution_count": 5,
   "metadata": {},
   "outputs": [],
   "source": [
    "from sklearn.model_selection import train_test_split\n",
    "import matplotlib.pyplot as plt\n",
    "# X : les paramétres d'entrée (features)\n",
    "X = df.loc[:,\"potential\":\"gk_reflexes\"]\n",
    "# Y : le paramétre de sortie (target)\n",
    "Y = df[\"overall_rating\"]\n",
    "# la fonction train_test_split permet de diviser le dataset en : Train set et Test set\n",
    "X_train,X_test,Y_train,Y_test = train_test_split(X,Y,test_size=.2)\n",
    "# visualisation du Train set et test set avec la librairie Matplotlib\n",
    "# X_train & X_test contiennent 37 champs, pour visualiser les 2 parties, on va choisir \n",
    "# seulement le champs 'potentiel'\n",
    "# plt.scatter(X_train.potential,Y_train,c='blue',label='Train set')\n",
    "# plt.scatter(X_test.potential,Y_test,c='red',label='Test set')\n",
    "# plt.legend()"
   ]
  },
  {
   "cell_type": "code",
   "execution_count": null,
   "metadata": {},
   "outputs": [
    {
     "name": "stdout",
     "output_type": "stream",
     "text": [
      "model|train_acc|test_acc\n",
      "LR   |   88 %  |   85 %\n",
      "SVR  |   88 %  |   92 %\n",
      "DTR  |   99 %  |   94 %\n",
      "RFR  |   99 %  |   97 %\n",
      "KNR  |   96 %  |   92 %\n"
     ]
    }
   ],
   "source": [
    "from sklearn.linear_model import LinearRegression\n",
    "from sklearn.svm import SVR\n",
    "from sklearn.tree import DecisionTreeRegressor\n",
    "from sklearn.ensemble import RandomForestRegressor\n",
    "from sklearn.neighbors import KNeighborsRegressor\n",
    "models = {\n",
    "    'LR ': LinearRegression(),\n",
    "    'SVR':SVR(),\n",
    "    'DTR':DecisionTreeRegressor(),\n",
    "    'RFR':RandomForestRegressor(),\n",
    "    'KNR':KNeighborsRegressor()\n",
    "}\n",
    "print('model|train_acc|test_acc')\n",
    "best_mod = None\n",
    "for name,model in models.items():\n",
    "    if (name == 'RFR'):\n",
    "        best_mod = model\n",
    "    model.fit(X=X_train,y=Y_train)\n",
    "    acc_train = model.score(X_train,Y_train)\n",
    "    acc_test = model.score(X_test,Y_test)\n",
    "    print(name,' |  ',int(acc_train*100),'%  |  ',int(acc_test*100),'%')"
   ]
  },
  {
   "cell_type": "code",
   "execution_count": null,
   "metadata": {},
   "outputs": [],
   "source": [
    "import pickle as pk\n",
    "best_model = pk.load(open('model.pkl','rb')) "
   ]
  },
  {
   "cell_type": "code",
   "execution_count": null,
   "metadata": {},
   "outputs": [
    {
     "data": {
      "text/plain": [
       "0.9641702123903702"
      ]
     },
     "execution_count": 11,
     "metadata": {},
     "output_type": "execute_result"
    }
   ],
   "source": [
    "import seaborn as sn\n",
    "from sklearn.model_selection import cross_val_score \n",
    "cols = ['potential','preferred_foot','crossing', 'finishing',\n",
    "       'short_passing', 'volleys', 'dribbling', 'curve']\n",
    "# sn.pairplot(df[cols])\n",
    "# plt.tight_layout()\n",
    "# plt.show()\n",
    "res = cross_val_score(best_model,X_train,Y_train)\n",
    "res.mean()"
   ]
  },
  {
   "cell_type": "code",
   "execution_count": 6,
   "metadata": {},
   "outputs": [],
   "source": [
    "from sklearn.ensemble import RandomForestRegressor\n",
    "model = RandomForestRegressor(n_estimators=10) # n_estimators représente le nombre\n",
    "# des arbres de décision utilisé.\n",
    "model.fit(X_train,Y_train)\n",
    "pred_train = model.predict(X_train) # il va générer des prédictions pour les valeurs\n",
    "# de la partie Train\n",
    "pred_test = model.predict(X_test) # il va générer des prédictions pour les valeurs\n",
    "# de la partie Test\n",
    "# visualisation des résultats\n",
    "# plt.scatter(pred_train, pred_train - Y_train ,c='red',marker='o',label='Training data') \n",
    "# plt.scatter(pred_test, pred_test - Y_test ,c='green',marker='o',label='Test data') \n",
    "# plt.xlabel('predicted values')\n",
    "# plt.ylabel('residual')\n",
    "# plt.legend()\n",
    "# plt.hlines(y=0,xmin=0,xmax=85,colors='black')\n",
    "# plt.show()"
   ]
  },
  {
   "cell_type": "code",
   "execution_count": 16,
   "metadata": {},
   "outputs": [
    {
     "ename": "NameError",
     "evalue": "name 'array' is not defined",
     "output_type": "error",
     "traceback": [
      "\u001b[1;31m---------------------------------------------------------------------------\u001b[0m",
      "\u001b[1;31mNameError\u001b[0m                                 Traceback (most recent call last)",
      "\u001b[1;32mc:\\my_files\\projects\\PYTHON\\PFE\\player_evaluation\\pfe.ipynb Cell 7'\u001b[0m in \u001b[0;36m<cell line: 1>\u001b[1;34m()\u001b[0m\n\u001b[1;32m----> <a href='vscode-notebook-cell:/c%3A/my_files/projects/PYTHON/PFE/player_evaluation/pfe.ipynb#ch0000006?line=0'>1</a>\u001b[0m arr \u001b[39m=\u001b[39m array(model\u001b[39m.\u001b[39mfeature_importances_)\n\u001b[0;32m      <a href='vscode-notebook-cell:/c%3A/my_files/projects/PYTHON/PFE/player_evaluation/pfe.ipynb#ch0000006?line=1'>2</a>\u001b[0m mx \u001b[39m=\u001b[39m \u001b[39mmax\u001b[39m(arr)\n\u001b[0;32m      <a href='vscode-notebook-cell:/c%3A/my_files/projects/PYTHON/PFE/player_evaluation/pfe.ipynb#ch0000006?line=2'>3</a>\u001b[0m \u001b[39mtype\u001b[39m(arr)\n",
      "\u001b[1;31mNameError\u001b[0m: name 'array' is not defined"
     ]
    }
   ],
   "source": [
    "arr = (model.feature_importances_)"
   ]
  }
 ],
 "metadata": {
  "interpreter": {
   "hash": "607db476e417971f05b607c2dd14e77ee8262c2c4c20dea422522c60605a222a"
  },
  "kernelspec": {
   "display_name": "Python 3.10.2 64-bit",
   "language": "python",
   "name": "python3"
  },
  "language_info": {
   "codemirror_mode": {
    "name": "ipython",
    "version": 3
   },
   "file_extension": ".py",
   "mimetype": "text/x-python",
   "name": "python",
   "nbconvert_exporter": "python",
   "pygments_lexer": "ipython3",
   "version": "3.10.2"
  },
  "orig_nbformat": 4
 },
 "nbformat": 4,
 "nbformat_minor": 2
}
